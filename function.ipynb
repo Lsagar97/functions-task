{
 "cells": [
  {
   "cell_type": "code",
   "execution_count": 1,
   "id": "f7c152a2",
   "metadata": {},
   "outputs": [],
   "source": [
    "def test(a,b):\n",
    "    \"\"\"\"this is my function for concatination or  addition\"\"\"\n",
    "    return a+b\n",
    "    "
   ]
  },
  {
   "cell_type": "code",
   "execution_count": 2,
   "id": "6b7aa0a1",
   "metadata": {},
   "outputs": [
    {
     "data": {
      "text/plain": [
       "3"
      ]
     },
     "execution_count": 2,
     "metadata": {},
     "output_type": "execute_result"
    }
   ],
   "source": [
    "test(1,2)"
   ]
  },
  {
   "cell_type": "code",
   "execution_count": 3,
   "id": "b1942fe6",
   "metadata": {},
   "outputs": [
    {
     "data": {
      "text/plain": [
       "'likisagar'"
      ]
     },
     "execution_count": 3,
     "metadata": {},
     "output_type": "execute_result"
    }
   ],
   "source": [
    "test(\"liki\",\"sagar\")"
   ]
  },
  {
   "cell_type": "code",
   "execution_count": 4,
   "id": "43546f34",
   "metadata": {},
   "outputs": [
    {
     "data": {
      "text/plain": [
       "3"
      ]
     },
     "execution_count": 4,
     "metadata": {},
     "output_type": "execute_result"
    }
   ],
   "source": [
    "test(a=1,b=2)"
   ]
  },
  {
   "cell_type": "code",
   "execution_count": 5,
   "id": "042a6cc3",
   "metadata": {},
   "outputs": [
    {
     "data": {
      "text/plain": [
       "3"
      ]
     },
     "execution_count": 5,
     "metadata": {},
     "output_type": "execute_result"
    }
   ],
   "source": [
    "test(b=2,a=1)"
   ]
  },
  {
   "cell_type": "code",
   "execution_count": 6,
   "id": "d22a7dd4",
   "metadata": {},
   "outputs": [
    {
     "name": "stdout",
     "output_type": "stream",
     "text": [
      "\n"
     ]
    }
   ],
   "source": [
    "print()"
   ]
  },
  {
   "cell_type": "code",
   "execution_count": 7,
   "id": "465752ca",
   "metadata": {},
   "outputs": [],
   "source": [
    "def test1(a,b,c,d,e):\n",
    "    return a,b,c,d,e"
   ]
  },
  {
   "cell_type": "code",
   "execution_count": 8,
   "id": "07911987",
   "metadata": {},
   "outputs": [
    {
     "ename": "TypeError",
     "evalue": "test1() takes 5 positional arguments but 6 were given",
     "output_type": "error",
     "traceback": [
      "\u001b[1;31m---------------------------------------------------------------------------\u001b[0m",
      "\u001b[1;31mTypeError\u001b[0m                                 Traceback (most recent call last)",
      "Input \u001b[1;32mIn [8]\u001b[0m, in \u001b[0;36m<cell line: 1>\u001b[1;34m()\u001b[0m\n\u001b[1;32m----> 1\u001b[0m \u001b[43mtest1\u001b[49m\u001b[43m(\u001b[49m\u001b[38;5;241;43m3\u001b[39;49m\u001b[43m,\u001b[49m\u001b[38;5;241;43m4\u001b[39;49m\u001b[43m,\u001b[49m\u001b[38;5;241;43m5\u001b[39;49m\u001b[43m,\u001b[49m\u001b[38;5;241;43m7\u001b[39;49m\u001b[43m,\u001b[49m\u001b[38;5;241;43m8\u001b[39;49m\u001b[43m,\u001b[49m\u001b[38;5;241;43m6\u001b[39;49m\u001b[43m)\u001b[49m\n",
      "\u001b[1;31mTypeError\u001b[0m: test1() takes 5 positional arguments but 6 were given"
     ]
    }
   ],
   "source": [
    "test1(3,4,5,7,8,6)"
   ]
  },
  {
   "cell_type": "code",
   "execution_count": null,
   "id": "d3cc11ff",
   "metadata": {},
   "outputs": [],
   "source": [
    "def test3(*a):\n",
    "    return a"
   ]
  },
  {
   "cell_type": "code",
   "execution_count": null,
   "id": "cedd5281",
   "metadata": {},
   "outputs": [],
   "source": [
    "test3(34,35,56)"
   ]
  },
  {
   "cell_type": "code",
   "execution_count": null,
   "id": "e5949e2e",
   "metadata": {},
   "outputs": [],
   "source": [
    "test3(\"a\",3,4,5,5,6,7,7)"
   ]
  },
  {
   "cell_type": "code",
   "execution_count": null,
   "id": "6cf7db3d",
   "metadata": {},
   "outputs": [],
   "source": [
    "def test4(*args):\n",
    "    return args"
   ]
  },
  {
   "cell_type": "code",
   "execution_count": null,
   "id": "e85f45a7",
   "metadata": {},
   "outputs": [],
   "source": [
    "##args is not any keyword"
   ]
  },
  {
   "cell_type": "code",
   "execution_count": null,
   "id": "58fe3091",
   "metadata": {},
   "outputs": [],
   "source": [
    "test4(\"liki\",[1,2,34,5],73839,{\"li\":2})"
   ]
  },
  {
   "cell_type": "code",
   "execution_count": null,
   "id": "c7e706f0",
   "metadata": {},
   "outputs": [],
   "source": [
    "def test5(*a):\n",
    "    ls=[]\n",
    "    for i in a:\n",
    "        ls.append(i)\n",
    "    return ls\n",
    "        "
   ]
  },
  {
   "cell_type": "code",
   "execution_count": null,
   "id": "cf4f1769",
   "metadata": {},
   "outputs": [],
   "source": [
    "test5(2,3,4,5,[3,4,55,6])"
   ]
  },
  {
   "cell_type": "code",
   "execution_count": null,
   "id": "3bce8af4",
   "metadata": {},
   "outputs": [],
   "source": [
    "def test6(a,b,c,d,*m):\n",
    "    return a,b,c,d,m"
   ]
  },
  {
   "cell_type": "code",
   "execution_count": null,
   "id": "410af3ed",
   "metadata": {},
   "outputs": [],
   "source": [
    "test6(3,4,5,6,7,8,9)"
   ]
  },
  {
   "cell_type": "code",
   "execution_count": null,
   "id": "e0bf640a",
   "metadata": {},
   "outputs": [],
   "source": [
    "def test7(*m,a,b,c,d,e):\n",
    "    return m,a,b,c,d,e"
   ]
  },
  {
   "cell_type": "code",
   "execution_count": null,
   "id": "cf10eca7",
   "metadata": {},
   "outputs": [],
   "source": [
    "test7(1,2,3,4,5,5,6,6,7)"
   ]
  },
  {
   "cell_type": "code",
   "execution_count": null,
   "id": "8fdadff1",
   "metadata": {},
   "outputs": [],
   "source": [
    "test7(4,5,6,5,4,35,75,a=6,b=66,c=5,d=3,e=3)"
   ]
  },
  {
   "cell_type": "code",
   "execution_count": null,
   "id": "c7ca7b3f",
   "metadata": {},
   "outputs": [],
   "source": [
    "def test8(**liki):\n",
    "    return liki"
   ]
  },
  {
   "cell_type": "code",
   "execution_count": null,
   "id": "7d53732c",
   "metadata": {},
   "outputs": [],
   "source": [
    "test8(4,5,6,7)"
   ]
  },
  {
   "cell_type": "code",
   "execution_count": null,
   "id": "da4f0f72",
   "metadata": {},
   "outputs": [],
   "source": [
    "test8(b=4,c=5,d=6,e=7,n=[3,4,5,6,6])"
   ]
  },
  {
   "cell_type": "code",
   "execution_count": null,
   "id": "5b223a6e",
   "metadata": {},
   "outputs": [],
   "source": [
    "d={'b': 4, 'c': 5, 'd': 6, 'e': 7}"
   ]
  },
  {
   "cell_type": "code",
   "execution_count": null,
   "id": "7efc4088",
   "metadata": {},
   "outputs": [],
   "source": [
    "test8(d)"
   ]
  },
  {
   "cell_type": "code",
   "execution_count": null,
   "id": "2e6cc93f",
   "metadata": {},
   "outputs": [],
   "source": [
    "def test9(*m,**s):\n",
    "    return m,s"
   ]
  },
  {
   "cell_type": "code",
   "execution_count": null,
   "id": "864efa7f",
   "metadata": {},
   "outputs": [],
   "source": [
    "test9(4,4545.4,4154,b=3,f=6,c=10,d=99)"
   ]
  },
  {
   "cell_type": "code",
   "execution_count": null,
   "id": "70574432",
   "metadata": {},
   "outputs": [],
   "source": [
    "def test10(*m):\n",
    "    n=0\n",
    "    for i in m:\n",
    "        if type(i)==int:\n",
    "            n=n+i\n",
    "    return n\n",
    "            "
   ]
  },
  {
   "cell_type": "code",
   "execution_count": null,
   "id": "db7ee0b2",
   "metadata": {},
   "outputs": [],
   "source": [
    "test10(2,3,4,5,56)"
   ]
  },
  {
   "cell_type": "code",
   "execution_count": null,
   "id": "385d39f5",
   "metadata": {},
   "outputs": [],
   "source": [
    "test10(34,34,5) "
   ]
  },
  {
   "cell_type": "code",
   "execution_count": null,
   "id": "a0595467",
   "metadata": {},
   "outputs": [],
   "source": [
    "def test11(*m):\n",
    "    n=1\n",
    "    for i in m:\n",
    "        if type(i)==int:\n",
    "            n=n*i\n",
    "    return n"
   ]
  },
  {
   "cell_type": "code",
   "execution_count": null,
   "id": "149ce2e5",
   "metadata": {},
   "outputs": [],
   "source": [
    "test11(23,4,5,5)"
   ]
  },
  {
   "cell_type": "code",
   "execution_count": null,
   "id": "8108dc81",
   "metadata": {},
   "outputs": [],
   "source": [
    "test11(12,3)\n"
   ]
  },
  {
   "cell_type": "code",
   "execution_count": null,
   "id": "c4e548ef",
   "metadata": {},
   "outputs": [],
   "source": [
    "n= lambda a,b : a+b"
   ]
  },
  {
   "cell_type": "code",
   "execution_count": null,
   "id": "a35af863",
   "metadata": {},
   "outputs": [],
   "source": [
    "n(4,5)"
   ]
  },
  {
   "cell_type": "code",
   "execution_count": null,
   "id": "660df1fd",
   "metadata": {},
   "outputs": [],
   "source": [
    "def test12(a,b):\n",
    "    return a+b"
   ]
  },
  {
   "cell_type": "code",
   "execution_count": null,
   "id": "b5a635d8",
   "metadata": {},
   "outputs": [],
   "source": [
    "test12(4,5)"
   ]
  },
  {
   "cell_type": "code",
   "execution_count": null,
   "id": "48041630",
   "metadata": {},
   "outputs": [],
   "source": [
    "n(5,6)"
   ]
  },
  {
   "cell_type": "code",
   "execution_count": null,
   "id": "e6bd593f",
   "metadata": {},
   "outputs": [],
   "source": [
    "b=lambda *liki : liki"
   ]
  },
  {
   "cell_type": "code",
   "execution_count": null,
   "id": "b0208197",
   "metadata": {},
   "outputs": [],
   "source": [
    "b(4,5,66,7,6,9)"
   ]
  },
  {
   "cell_type": "code",
   "execution_count": null,
   "id": "2571fcc2",
   "metadata": {},
   "outputs": [],
   "source": [
    "t=(2,3,4,4,5,2,1)\n",
    "l=[]\n",
    "for i in t:\n",
    "    l.append(i)\n",
    "    "
   ]
  },
  {
   "cell_type": "code",
   "execution_count": null,
   "id": "2ba39b47",
   "metadata": {},
   "outputs": [],
   "source": [
    "l"
   ]
  },
  {
   "cell_type": "code",
   "execution_count": null,
   "id": "f2592eda",
   "metadata": {},
   "outputs": [],
   "source": [
    "[i for i in t] ##list comprehension operation"
   ]
  },
  {
   "cell_type": "code",
   "execution_count": null,
   "id": "40fc5bc8",
   "metadata": {},
   "outputs": [],
   "source": [
    "s=\"liki\"\n"
   ]
  },
  {
   "cell_type": "code",
   "execution_count": null,
   "id": "f588a845",
   "metadata": {},
   "outputs": [],
   "source": [
    "\n",
    "[i for i in s]"
   ]
  },
  {
   "cell_type": "code",
   "execution_count": null,
   "id": "46796bde",
   "metadata": {},
   "outputs": [],
   "source": [
    "[i*i for i in range(10)]"
   ]
  },
  {
   "cell_type": "code",
   "execution_count": null,
   "id": "e5050a0c",
   "metadata": {},
   "outputs": [],
   "source": [
    "l=[]\n",
    "for i in range(10):\n",
    "    l.append(i*i)"
   ]
  },
  {
   "cell_type": "code",
   "execution_count": null,
   "id": "a2604df6",
   "metadata": {},
   "outputs": [],
   "source": [
    "l"
   ]
  },
  {
   "cell_type": "code",
   "execution_count": null,
   "id": "3e1b48a2",
   "metadata": {},
   "outputs": [],
   "source": [
    "l =lambda *x :[i for i in x]"
   ]
  },
  {
   "cell_type": "code",
   "execution_count": null,
   "id": "c7eeff8d",
   "metadata": {},
   "outputs": [],
   "source": [
    "l(1,2,3,43,45,99,6,6,6,)"
   ]
  },
  {
   "cell_type": "code",
   "execution_count": null,
   "id": "2be25202",
   "metadata": {},
   "outputs": [],
   "source": [
    "l1=lambda *x :[i**2 for i in x]"
   ]
  },
  {
   "cell_type": "code",
   "execution_count": null,
   "id": "edb577b4",
   "metadata": {},
   "outputs": [],
   "source": [
    "l1(1,2,3,45,6)"
   ]
  },
  {
   "cell_type": "code",
   "execution_count": null,
   "id": "e12368ef",
   "metadata": {},
   "outputs": [],
   "source": [
    "test14(a=7,b=4,c=\"liki\",l=[1,2,3,4,\"liki\"])\n"
   ]
  },
  {
   "cell_type": "code",
   "execution_count": null,
   "id": "ef4a48a1",
   "metadata": {},
   "outputs": [],
   "source": [
    "def test14(**kwargs):\n",
    "    count=0\n",
    "    print(kwargs)\n",
    "    for i in kwargs.values():\n",
    "        if type(i)==str or type(i)==list:\n",
    "                count+=1\n",
    "    return count"
   ]
  },
  {
   "cell_type": "code",
   "execution_count": null,
   "id": "063a20ea",
   "metadata": {},
   "outputs": [],
   "source": [
    "test14(a=7,b=4,c=\"liki\",l=[1,2,3,4,\"liki\"])"
   ]
  },
  {
   "cell_type": "code",
   "execution_count": null,
   "id": "e1a68c07",
   "metadata": {},
   "outputs": [],
   "source": [
    "def test15(**kwargs):\n",
    "    return list(kwargs.values())"
   ]
  },
  {
   "cell_type": "code",
   "execution_count": null,
   "id": "0aa13836",
   "metadata": {},
   "outputs": [],
   "source": [
    "test15(a=7,b=\"liki\",c=345,s=\"sag\",l=[1,2,3,\"liki\"])"
   ]
  },
  {
   "cell_type": "markdown",
   "id": "fc3d1527",
   "metadata": {},
   "source": [
    "####function task"
   ]
  },
  {
   "cell_type": "code",
   "execution_count": null,
   "id": "c93ed568",
   "metadata": {},
   "outputs": [],
   "source": [
    "## q1 : Try to print a prime number in between 1 to 1000\n",
    "def test_a(a,b):\n",
    "    for num in range(a,b):\n",
    "        count=0\n",
    "        for i in range(2,((num//2)+1)):\n",
    "            if num%i==0:\n",
    "                count+=1\n",
    "                break\n",
    "        if count==0 and num!=1:\n",
    "            print(num, end=\" \")\n",
    "            "
   ]
  },
  {
   "cell_type": "code",
   "execution_count": null,
   "id": "1eb09c36",
   "metadata": {},
   "outputs": [],
   "source": [
    "test_a(1,10)"
   ]
  },
  {
   "cell_type": "code",
   "execution_count": null,
   "id": "86b8772e",
   "metadata": {},
   "outputs": [],
   "source": [
    "for n in range(0,10):\n",
    "    for i in range(2,(n//2)+1):"
   ]
  },
  {
   "cell_type": "code",
   "execution_count": null,
   "id": "5087206a",
   "metadata": {},
   "outputs": [],
   "source": [
    "numb= 3\n",
    "numb//2"
   ]
  },
  {
   "cell_type": "code",
   "execution_count": null,
   "id": "d90f2a8d",
   "metadata": {},
   "outputs": [],
   "source": []
  },
  {
   "cell_type": "code",
   "execution_count": null,
   "id": "6551c43d",
   "metadata": {},
   "outputs": [],
   "source": [
    "for i in range(2,5):\n",
    "    print(i)"
   ]
  },
  {
   "cell_type": "code",
   "execution_count": null,
   "id": "540d7fc4",
   "metadata": {},
   "outputs": [],
   "source": [
    "range(2,3)"
   ]
  },
  {
   "cell_type": "code",
   "execution_count": null,
   "id": "9981721d",
   "metadata": {},
   "outputs": [],
   "source": [
    "2//2"
   ]
  },
  {
   "cell_type": "code",
   "execution_count": null,
   "id": "e0d48e23",
   "metadata": {},
   "outputs": [],
   "source": [
    "##q2 : Try to write a function which  is equivalent  to \n",
    "##             print function in python\n",
    "\n",
    "def test_b(*b):\n",
    "    print(*b)\n",
    "    \n",
    "    "
   ]
  },
  {
   "cell_type": "code",
   "execution_count": null,
   "id": "429ca29d",
   "metadata": {},
   "outputs": [],
   "source": [
    "test_b([1,\"m2\",3,3,])"
   ]
  },
  {
   "cell_type": "code",
   "execution_count": null,
   "id": "67162ddd",
   "metadata": {},
   "outputs": [],
   "source": [
    "##q3 : Try to write a function which is a replica of list append ,\n",
    "###              extend and pop function \n",
    "\n",
    "def testls(*a):\n",
    "    ls14=[]\n",
    "    for i in a:\n",
    "        ls14.append(i)\n",
    "    print(ls14)\n",
    "    "
   ]
  },
  {
   "cell_type": "code",
   "execution_count": null,
   "id": "76e3f589",
   "metadata": {},
   "outputs": [],
   "source": [
    "testls(\"likith\",1,23,3)"
   ]
  },
  {
   "cell_type": "code",
   "execution_count": null,
   "id": "298755d1",
   "metadata": {},
   "outputs": [],
   "source": [
    "##q3 extend\n",
    "def testlsc(**b):\n",
    "    ls15=[1,2,3,\"liki\"]\n",
    "    for i in b:\n",
    "        ls15.extend(i)\n",
    "    print(ls15)\n"
   ]
  },
  {
   "cell_type": "code",
   "execution_count": null,
   "id": "40ef79b8",
   "metadata": {},
   "outputs": [],
   "source": [
    "testlsc((\"likith\"))"
   ]
  },
  {
   "cell_type": "code",
   "execution_count": null,
   "id": "144590db",
   "metadata": {},
   "outputs": [],
   "source": [
    "testlsc((\"likith\",1,2,34))"
   ]
  },
  {
   "cell_type": "code",
   "execution_count": null,
   "id": "a1aa8e38",
   "metadata": {},
   "outputs": [],
   "source": [
    "##Q3 pop fnc\n",
    "def lsg(*c):\n",
    "    ls16=[1,2,3,4,\"liki\"]\n",
    "    for i in c:\n",
    "        ls16.pop(i)\n",
    "    print(ls16)"
   ]
  },
  {
   "cell_type": "code",
   "execution_count": null,
   "id": "9164f19b",
   "metadata": {},
   "outputs": [],
   "source": [
    "lsg((\"liki\"))"
   ]
  },
  {
   "cell_type": "code",
   "execution_count": null,
   "id": "a3798fd8",
   "metadata": {},
   "outputs": [],
   "source": [
    "##q4 : Try to write a lambda function which can return a concatination \n",
    "## of all the string that we will pass\n",
    "n= lambda a,b: a+b\n",
    "n(str(input()),str(input()))"
   ]
  },
  {
   "cell_type": "code",
   "execution_count": null,
   "id": "049144c6",
   "metadata": {},
   "outputs": [],
   "source": [
    "## q5 : Try to write a lambda function \n",
    "##     which can return list of square of all the data between 1-100 \n",
    "l = lambda *a:[i**2 for i in range(1,10)]\n",
    "    "
   ]
  },
  {
   "cell_type": "code",
   "execution_count": null,
   "id": "9861dcd6",
   "metadata": {},
   "outputs": [],
   "source": [
    "l()"
   ]
  },
  {
   "cell_type": "code",
   "execution_count": null,
   "id": "ca6d1f00",
   "metadata": {},
   "outputs": [],
   "source": [
    "##q6 : Try to write a 10 Different different example of lambda \n",
    "##     function with a choice of your taks "
   ]
  },
  {
   "cell_type": "code",
   "execution_count": 9,
   "id": "8aaaa6d1",
   "metadata": {},
   "outputs": [],
   "source": [
    "##a1 lambda with if_else\n",
    "m = lambda a,b : a if (a>b) else b\n"
   ]
  },
  {
   "cell_type": "code",
   "execution_count": 10,
   "id": "db9757b9",
   "metadata": {},
   "outputs": [
    {
     "data": {
      "text/plain": [
       "100"
      ]
     },
     "execution_count": 10,
     "metadata": {},
     "output_type": "execute_result"
    }
   ],
   "source": [
    "m(0,100)"
   ]
  },
  {
   "cell_type": "code",
   "execution_count": 14,
   "id": "b59e31b6",
   "metadata": {},
   "outputs": [],
   "source": [
    "##a2\n",
    "lsd=[]\n",
    "l = lambda *a : [lsd.append(i) for i in a]\n",
    "              "
   ]
  },
  {
   "cell_type": "code",
   "execution_count": 15,
   "id": "d31213f2",
   "metadata": {},
   "outputs": [
    {
     "data": {
      "text/plain": [
       "[None, None, None]"
      ]
     },
     "execution_count": 15,
     "metadata": {},
     "output_type": "execute_result"
    }
   ],
   "source": [
    "l(1,2,3)"
   ]
  },
  {
   "cell_type": "code",
   "execution_count": null,
   "id": "f59dba52",
   "metadata": {},
   "outputs": [],
   "source": [
    "##a3 ##multipkle statements\n",
    "\n",
    "l1=[[2,3,4],[1,4,16,64],[3,6,9,12]]\n",
    "sortlist = lambda x:(sorted(j) for j in x)\n",
    "maxnum= lambda a,b:[[max(i)] for i in b(a)]\n",
    "res= maxnum(l1,sortlist)\n",
    "print(res)"
   ]
  },
  {
   "cell_type": "code",
   "execution_count": null,
   "id": "430fcaab",
   "metadata": {},
   "outputs": [],
   "source": [
    "l1"
   ]
  },
  {
   "cell_type": "code",
   "execution_count": null,
   "id": "d3cf3b2c",
   "metadata": {},
   "outputs": [],
   "source": [
    "for i in l1:\n",
    "    print(len(i),max (i))"
   ]
  },
  {
   "cell_type": "code",
   "execution_count": null,
   "id": "fe8b6f05",
   "metadata": {},
   "outputs": [],
   "source": [
    "##a4 lamda with filter\n",
    "l2= [4,5,67,32,5,5,6,74,4,5,3,4,6,77,76]\n",
    "oddlist = list(filter(lambda x: (x%2!=0),l2))\n",
    "print(oddlist)"
   ]
  },
  {
   "cell_type": "code",
   "execution_count": null,
   "id": "f87081bd",
   "metadata": {},
   "outputs": [],
   "source": [
    "\n",
    "sorted(l2)"
   ]
  },
  {
   "cell_type": "code",
   "execution_count": null,
   "id": "bccc16a5",
   "metadata": {},
   "outputs": [],
   "source": [
    "max(l2)"
   ]
  },
  {
   "cell_type": "code",
   "execution_count": null,
   "id": "0da99392",
   "metadata": {},
   "outputs": [],
   "source": [
    "##a5 ##using filter(2 args )\n",
    "ages = [12,3,67,17,89,101,56,45,18]\n",
    "adults= list(filter(lambda age: age >=18,ages))\n",
    "print(adults)"
   ]
  },
  {
   "cell_type": "code",
   "execution_count": null,
   "id": "73265287",
   "metadata": {},
   "outputs": [],
   "source": [
    "##a5\n",
    "animals=[\"dog\",\"cat\",\"squrrel\",\"rabbit\"]\n",
    "upper = list(map(lambda animal:animal.upper(),animals))\n",
    "print(upper)"
   ]
  },
  {
   "cell_type": "code",
   "execution_count": null,
   "id": "3f97ff19",
   "metadata": {},
   "outputs": [],
   "source": [
    "##a6 using reduce(2 args) function\n",
    "import functools\n",
    "lis = [1,2,3,4,5,6.6,6.6,9]\n",
    "print(functools.reduce(lambda a,b:a if a>b else b,lis))"
   ]
  },
  {
   "cell_type": "code",
   "execution_count": null,
   "id": "50378c58",
   "metadata": {},
   "outputs": [],
   "source": [
    "##a7 map() using lamda function\n",
    "l13=[12,13,14,23,45,67,89,2,22,1,5,8,9,10]\n",
    "mapf=tuple(map(lambda x : x*2,l13))\n",
    "print(mapf)"
   ]
  },
  {
   "cell_type": "code",
   "execution_count": 16,
   "id": "50362236",
   "metadata": {},
   "outputs": [],
   "source": [
    "##a8\n",
    "def myfunc(n):\n",
    "    ls=[]\n",
    "    for i in n:\n",
    "        ls.append(i)\n",
    "    print(ls)"
   ]
  },
  {
   "cell_type": "code",
   "execution_count": 17,
   "id": "47d3e1dc",
   "metadata": {},
   "outputs": [
    {
     "name": "stdout",
     "output_type": "stream",
     "text": [
      "[1, 2]\n"
     ]
    }
   ],
   "source": [
    "myfunc((1,2))"
   ]
  },
  {
   "cell_type": "code",
   "execution_count": 18,
   "id": "b6e621d4",
   "metadata": {},
   "outputs": [],
   "source": [
    "ls=[]\n",
    "my = lambda *n :[ls.append(i) for i in n]"
   ]
  },
  {
   "cell_type": "code",
   "execution_count": 19,
   "id": "06d4a88b",
   "metadata": {},
   "outputs": [
    {
     "data": {
      "text/plain": [
       "[None]"
      ]
     },
     "execution_count": 19,
     "metadata": {},
     "output_type": "execute_result"
    }
   ],
   "source": [
    "my(\"liki\")"
   ]
  },
  {
   "cell_type": "code",
   "execution_count": null,
   "id": "202e3b7d",
   "metadata": {},
   "outputs": [],
   "source": [
    "##q7 : Try to write a funtion whihc can perform a read operation from .txt file\n",
    "\n"
   ]
  }
 ],
 "metadata": {
  "kernelspec": {
   "display_name": "Python 3 (ipykernel)",
   "language": "python",
   "name": "python3"
  },
  "language_info": {
   "codemirror_mode": {
    "name": "ipython",
    "version": 3
   },
   "file_extension": ".py",
   "mimetype": "text/x-python",
   "name": "python",
   "nbconvert_exporter": "python",
   "pygments_lexer": "ipython3",
   "version": "3.9.12"
  }
 },
 "nbformat": 4,
 "nbformat_minor": 5
}
